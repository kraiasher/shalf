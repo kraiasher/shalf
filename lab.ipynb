{
 "cells": [
  {
   "cell_type": "code",
   "execution_count": 79,
   "id": "d3bbe382",
   "metadata": {},
   "outputs": [],
   "source": [
    "import pandas as pd\n",
    "import numpy as np\n",
    "from sklearn.preprocessing import MinMaxScaler\n",
    "from sklearn.ensemble import RandomForestClassifier\n",
    "from sklearn.model_selection import StratifiedKFold\n",
    "from sklearn.metrics import confusion_matrix,roc_curve,auc,accuracy_score\n",
    "\n",
    "pd.options.display.html.table_schema=True\n",
    "pd.options.display.max_rows=None\n",
    "pd.options.display.max_columns=None\n",
    "# %matplotlib inline"
   ]
  },
  {
   "cell_type": "code",
   "execution_count": 145,
   "id": "6f6dfbf4",
   "metadata": {},
   "outputs": [
    {
     "name": "stdout",
     "output_type": "stream",
     "text": [
      "[[2 2 0 ... 0 0 1]\n",
      " [1 1 0 ... 0 0 1]\n",
      " [2 2 1 ... 0 0 2]\n",
      " ...\n",
      " [2 2 0 ... 0 0 2]\n",
      " [2 2 0 ... 0 0 1]\n",
      " [2 2 1 ... 0 0 3]]\n"
     ]
    }
   ],
   "source": [
    "data=pd.read_excel('111.xlsx',sheet_name='Лист2')\n",
    "X=np.array(data.drop('Событие', axis=1))\n",
    "y=np.array(data['Событие'])"
   ]
  },
  {
   "cell_type": "code",
   "execution_count": 81,
   "id": "08a7d196",
   "metadata": {},
   "outputs": [],
   "source": [
    "rand_forest=RandomForestClassifier(random_state=0, n_estimators=840, max_depth=5).fit(X, y)"
   ]
  },
  {
   "cell_type": "code",
   "execution_count": 184,
   "id": "dcef3e1e",
   "metadata": {},
   "outputs": [
    {
     "name": "stdout",
     "output_type": "stream",
     "text": [
      "{'Покраснение': 0.06948070012182993}\n",
      "{'неприятные ощущения в глазу – присутствие – имеется': 0.07206658763845382}\n",
      "{'конъюнктива ВиН век – изменения – отек': 0.06108336589827186}\n",
      "{'конъюнктива ВиН век -  характер отделяемого': 0.05970203242649546}\n"
     ]
    }
   ],
   "source": [
    "importances = [{data.columns[index]: x} for index,x in enumerate(rand_forest.feature_importances_) if x>0.05]\n",
    "importances_ = []\n",
    "for col in importances:\n",
    "    importances_.append( list(col.keys())[0] )\n",
    "    print(col)"
   ]
  },
  {
   "cell_type": "code",
   "execution_count": 83,
   "id": "1ff3d822",
   "metadata": {},
   "outputs": [
    {
     "name": "stdout",
     "output_type": "stream",
     "text": [
      "0.9655172413793104\n"
     ]
    },
    {
     "data": {
      "application/vnd.dataresource+json": {
       "data": [
        {
         "0": 16,
         "1": 0,
         "2": 0,
         "4": 0,
         "row_0": 0
        },
        {
         "0": 0,
         "1": 6,
         "2": 0,
         "4": 0,
         "row_0": 1
        },
        {
         "0": 0,
         "1": 0,
         "2": 3,
         "4": 0,
         "row_0": 2
        },
        {
         "0": 0,
         "1": 1,
         "2": 0,
         "4": 0,
         "row_0": 3
        },
        {
         "0": 0,
         "1": 0,
         "2": 0,
         "4": 3,
         "row_0": 4
        }
       ],
       "schema": {
        "fields": [
         {
          "name": "row_0",
          "type": "integer"
         },
         {
          "name": 0,
          "type": "integer"
         },
         {
          "name": 1,
          "type": "integer"
         },
         {
          "name": 2,
          "type": "integer"
         },
         {
          "name": 4,
          "type": "integer"
         }
        ],
        "pandas_version": "0.20.0",
        "primaryKey": [
         "row_0"
        ]
       }
      },
      "text/html": [
       "<div>\n",
       "<style scoped>\n",
       "    .dataframe tbody tr th:only-of-type {\n",
       "        vertical-align: middle;\n",
       "    }\n",
       "\n",
       "    .dataframe tbody tr th {\n",
       "        vertical-align: top;\n",
       "    }\n",
       "\n",
       "    .dataframe thead th {\n",
       "        text-align: right;\n",
       "    }\n",
       "</style>\n",
       "<table border=\"1\" class=\"dataframe\">\n",
       "  <thead>\n",
       "    <tr style=\"text-align: right;\">\n",
       "      <th>col_0</th>\n",
       "      <th>0</th>\n",
       "      <th>1</th>\n",
       "      <th>2</th>\n",
       "      <th>4</th>\n",
       "    </tr>\n",
       "    <tr>\n",
       "      <th>row_0</th>\n",
       "      <th></th>\n",
       "      <th></th>\n",
       "      <th></th>\n",
       "      <th></th>\n",
       "    </tr>\n",
       "  </thead>\n",
       "  <tbody>\n",
       "    <tr>\n",
       "      <th>0</th>\n",
       "      <td>16</td>\n",
       "      <td>0</td>\n",
       "      <td>0</td>\n",
       "      <td>0</td>\n",
       "    </tr>\n",
       "    <tr>\n",
       "      <th>1</th>\n",
       "      <td>0</td>\n",
       "      <td>6</td>\n",
       "      <td>0</td>\n",
       "      <td>0</td>\n",
       "    </tr>\n",
       "    <tr>\n",
       "      <th>2</th>\n",
       "      <td>0</td>\n",
       "      <td>0</td>\n",
       "      <td>3</td>\n",
       "      <td>0</td>\n",
       "    </tr>\n",
       "    <tr>\n",
       "      <th>3</th>\n",
       "      <td>0</td>\n",
       "      <td>1</td>\n",
       "      <td>0</td>\n",
       "      <td>0</td>\n",
       "    </tr>\n",
       "    <tr>\n",
       "      <th>4</th>\n",
       "      <td>0</td>\n",
       "      <td>0</td>\n",
       "      <td>0</td>\n",
       "      <td>3</td>\n",
       "    </tr>\n",
       "  </tbody>\n",
       "</table>\n",
       "</div>"
      ],
      "text/plain": [
       "col_0   0  1  2  4\n",
       "row_0             \n",
       "0      16  0  0  0\n",
       "1       0  6  0  0\n",
       "2       0  0  3  0\n",
       "3       0  1  0  0\n",
       "4       0  0  0  3"
      ]
     },
     "execution_count": 83,
     "metadata": {},
     "output_type": "execute_result"
    }
   ],
   "source": [
    "print(rand_forest.score(X,y))\n",
    "y_pred=rand_forest.predict(X)\n",
    "pd.crosstab(y,y_pred)"
   ]
  },
  {
   "cell_type": "code",
   "execution_count": 84,
   "id": "78de8b90",
   "metadata": {},
   "outputs": [
    {
     "name": "stdout",
     "output_type": "stream",
     "text": [
      "0.8275862068965517\n"
     ]
    }
   ],
   "source": [
    "New_X=data[['Покраснение','неприятные ощущения в глазу – присутствие – имеется','конъюнктива ВиН век – изменения – отек','конъюнктива ВиН век -  характер отделяемого']]\n",
    "rand_forest1=RandomForestClassifier(random_state=0, n_estimators=840, max_depth=5).fit(New_X, y)\n",
    "print(rand_forest1.score(New_X,y))"
   ]
  },
  {
   "cell_type": "code",
   "execution_count": 187,
   "id": "2a585c7a-e3f7-461a-aaa7-7141c0f746b7",
   "metadata": {},
   "outputs": [],
   "source": [
    "from collections import OrderedDict\n",
    "interact_data = OrderedDict()\n",
    "copied = pd.DataFrame(data, columns=importances_)\n",
    "# copied = copied.drop('Событие', 1)\n",
    "for col in copied:\n",
    "    col_data = data[col].unique()\n",
    "    interact_data[col] =(col_data.min(), col_data.max())"
   ]
  },
  {
   "cell_type": "code",
   "execution_count": 188,
   "id": "cf44acd4-60c0-470c-a0bb-92e14bb44ee4",
   "metadata": {},
   "outputs": [
    {
     "data": {
      "application/vnd.jupyter.widget-view+json": {
       "model_id": "c625b50063e448e0974568ccd61e0623",
       "version_major": 2,
       "version_minor": 0
      },
      "text/plain": [
       "interactive(children=(IntSlider(value=0, description='Покраснение', max=2), IntSlider(value=0, description='не…"
      ]
     },
     "metadata": {},
     "output_type": "display_data"
    }
   ],
   "source": [
    "from __future__ import print_function\n",
    "from ipywidgets import interact, interactive, fixed, interact_manual, IntSlider\n",
    "import ipywidgets as widgets\n",
    "from IPython.display import display, clear_output\n",
    "import matplotlib.pyplot as plt\n",
    "\n",
    "def make_preset(**kwargs):\n",
    "    predicts = list(kwargs.values())\n",
    "    predicts = [np.asanyarray(predicts)]\n",
    "    \n",
    "    predicted = rand_forest1.predict([predicts[0]])\n",
    "    return f'Предсказанное событие {predicted[0]}'\n",
    "    \n",
    "list_widgets={}\n",
    "\n",
    "for name in interact_data.keys():\n",
    "    value = interact_data[name]\n",
    "    list_widgets[name] = widgets.IntSlider(value=value[0] ,min=value[0],max=value[1],description=name)\n",
    "\n",
    "interact(make_preset, **list_widgets);"
   ]
  },
  {
   "cell_type": "code",
   "execution_count": null,
   "id": "e6abd88f-cbc2-4383-9bf2-04b65b40d4b1",
   "metadata": {},
   "outputs": [],
   "source": []
  }
 ],
 "metadata": {
  "kernelspec": {
   "display_name": "Python 3",
   "language": "python",
   "name": "python3"
  },
  "language_info": {
   "codemirror_mode": {
    "name": "ipython",
    "version": 3
   },
   "file_extension": ".py",
   "mimetype": "text/x-python",
   "name": "python",
   "nbconvert_exporter": "python",
   "pygments_lexer": "ipython3",
   "version": "3.9.1"
  }
 },
 "nbformat": 4,
 "nbformat_minor": 5
}
