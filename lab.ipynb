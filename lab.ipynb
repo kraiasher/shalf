{
 "cells": [
  {
   "cell_type": "code",
   "execution_count": 1,
   "id": "d3bbe382",
   "metadata": {},
   "outputs": [],
   "source": [
    "import pandas as pd\n",
    "import numpy as np\n",
    "from sklearn.preprocessing import MinMaxScaler\n",
    "from sklearn.ensemble import RandomForestClassifier\n",
    "from sklearn.model_selection import StratifiedKFold\n",
    "from sklearn.metrics import confusion_matrix,roc_curve,auc,accuracy_score\n",
    "\n",
    "pd.options.display.html.table_schema=True\n",
    "pd.options.display.max_rows=None\n",
    "pd.options.display.max_columns=None"
   ]
  },
  {
   "cell_type": "code",
   "execution_count": 11,
   "id": "6f6dfbf4",
   "metadata": {},
   "outputs": [
    {
     "data": {
      "text/plain": [
       "array([0, 0, 0, 0, 1, 1, 1, 1, 4, 0, 0, 2, 1, 0, 0, 0, 0, 0, 3, 0, 0, 0,\n",
       "       0, 2, 4, 4, 0, 2, 1], dtype=int64)"
      ]
     },
     "execution_count": 11,
     "metadata": {},
     "output_type": "execute_result"
    }
   ],
   "source": [
    "data=pd.read_excel('111.xlsx',sheet_name='Лист2')\n",
    "X=np.array(data.drop('Событие', axis=1))\n",
    "y=np.array(data['Событие'])"
   ]
  },
  {
   "cell_type": "code",
   "execution_count": 13,
   "id": "08a7d196",
   "metadata": {},
   "outputs": [],
   "source": [
    "rand_forest=RandomForestClassifier(random_state=0, n_estimators=840, max_depth=5).fit(X, y)"
   ]
  },
  {
   "cell_type": "code",
   "execution_count": 22,
   "id": "dcef3e1e",
   "metadata": {},
   "outputs": [
    {
     "name": "stdout",
     "output_type": "stream",
     "text": [
      "Покраснение 0.06948070012182993\n",
      "неприятные ощущения в глазу – присутствие – имеется 0.07206658763845382\n",
      "конъюнктива ВиН век – изменения – отек 0.06108336589827186\n",
      "конъюнктива ВиН век -  характер отделяемого 0.05970203242649546\n"
     ]
    },
    {
     "data": {
      "text/plain": [
       "[None, None, None, None]"
      ]
     },
     "execution_count": 22,
     "metadata": {},
     "output_type": "execute_result"
    }
   ],
   "source": [
    "[print(data.columns[index],x) for index,x in enumerate(rand_forest.feature_importances_) if x>0.05]"
   ]
  },
  {
   "cell_type": "code",
   "execution_count": 27,
   "id": "1ff3d822",
   "metadata": {},
   "outputs": [
    {
     "name": "stdout",
     "output_type": "stream",
     "text": [
      "0.9655172413793104\n"
     ]
    },
    {
     "data": {
      "application/vnd.dataresource+json": {
       "data": [
        {
         "0": 16,
         "1": 0,
         "2": 0,
         "4": 0,
         "row_0": 0
        },
        {
         "0": 0,
         "1": 6,
         "2": 0,
         "4": 0,
         "row_0": 1
        },
        {
         "0": 0,
         "1": 0,
         "2": 3,
         "4": 0,
         "row_0": 2
        },
        {
         "0": 0,
         "1": 1,
         "2": 0,
         "4": 0,
         "row_0": 3
        },
        {
         "0": 0,
         "1": 0,
         "2": 0,
         "4": 3,
         "row_0": 4
        }
       ],
       "schema": {
        "fields": [
         {
          "name": "row_0",
          "type": "integer"
         },
         {
          "name": 0,
          "type": "integer"
         },
         {
          "name": 1,
          "type": "integer"
         },
         {
          "name": 2,
          "type": "integer"
         },
         {
          "name": 4,
          "type": "integer"
         }
        ],
        "pandas_version": "0.20.0",
        "primaryKey": [
         "row_0"
        ]
       }
      },
      "text/html": [
       "<div>\n",
       "<style scoped>\n",
       "    .dataframe tbody tr th:only-of-type {\n",
       "        vertical-align: middle;\n",
       "    }\n",
       "\n",
       "    .dataframe tbody tr th {\n",
       "        vertical-align: top;\n",
       "    }\n",
       "\n",
       "    .dataframe thead th {\n",
       "        text-align: right;\n",
       "    }\n",
       "</style>\n",
       "<table border=\"1\" class=\"dataframe\">\n",
       "  <thead>\n",
       "    <tr style=\"text-align: right;\">\n",
       "      <th>col_0</th>\n",
       "      <th>0</th>\n",
       "      <th>1</th>\n",
       "      <th>2</th>\n",
       "      <th>4</th>\n",
       "    </tr>\n",
       "    <tr>\n",
       "      <th>row_0</th>\n",
       "      <th></th>\n",
       "      <th></th>\n",
       "      <th></th>\n",
       "      <th></th>\n",
       "    </tr>\n",
       "  </thead>\n",
       "  <tbody>\n",
       "    <tr>\n",
       "      <th>0</th>\n",
       "      <td>16</td>\n",
       "      <td>0</td>\n",
       "      <td>0</td>\n",
       "      <td>0</td>\n",
       "    </tr>\n",
       "    <tr>\n",
       "      <th>1</th>\n",
       "      <td>0</td>\n",
       "      <td>6</td>\n",
       "      <td>0</td>\n",
       "      <td>0</td>\n",
       "    </tr>\n",
       "    <tr>\n",
       "      <th>2</th>\n",
       "      <td>0</td>\n",
       "      <td>0</td>\n",
       "      <td>3</td>\n",
       "      <td>0</td>\n",
       "    </tr>\n",
       "    <tr>\n",
       "      <th>3</th>\n",
       "      <td>0</td>\n",
       "      <td>1</td>\n",
       "      <td>0</td>\n",
       "      <td>0</td>\n",
       "    </tr>\n",
       "    <tr>\n",
       "      <th>4</th>\n",
       "      <td>0</td>\n",
       "      <td>0</td>\n",
       "      <td>0</td>\n",
       "      <td>3</td>\n",
       "    </tr>\n",
       "  </tbody>\n",
       "</table>\n",
       "</div>"
      ],
      "text/plain": [
       "col_0   0  1  2  4\n",
       "row_0             \n",
       "0      16  0  0  0\n",
       "1       0  6  0  0\n",
       "2       0  0  3  0\n",
       "3       0  1  0  0\n",
       "4       0  0  0  3"
      ]
     },
     "execution_count": 27,
     "metadata": {},
     "output_type": "execute_result"
    }
   ],
   "source": [
    "print(rand_forest.score(X,y))\n",
    "y_pred=rand_forest.predict(X)\n",
    "pd.crosstab(y,y_pred)"
   ]
  },
  {
   "cell_type": "code",
   "execution_count": 30,
   "id": "78de8b90",
   "metadata": {},
   "outputs": [
    {
     "name": "stdout",
     "output_type": "stream",
     "text": [
      "0.8275862068965517\n"
     ]
    }
   ],
   "source": [
    "New_X=data[['Покраснение','неприятные ощущения в глазу – присутствие – имеется','конъюнктива ВиН век – изменения – отек','конъюнктива ВиН век -  характер отделяемого']]\n",
    "rand_forest1=RandomForestClassifier(random_state=0, n_estimators=840, max_depth=5).fit(New_X, y)\n",
    "print(rand_forest1.score(New_X,y))"
   ]
  }
 ],
 "metadata": {
  "kernelspec": {
   "display_name": "Python 3",
   "language": "python",
   "name": "python3"
  },
  "language_info": {
   "codemirror_mode": {
    "name": "ipython",
    "version": 3
   },
   "file_extension": ".py",
   "mimetype": "text/x-python",
   "name": "python",
   "nbconvert_exporter": "python",
   "pygments_lexer": "ipython3",
   "version": "3.8.8"
  }
 },
 "nbformat": 4,
 "nbformat_minor": 5
}
