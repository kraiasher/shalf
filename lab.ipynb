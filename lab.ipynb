{
 "cells": [
  {
   "cell_type": "code",
   "execution_count": 1,
   "id": "d3bbe382",
   "metadata": {},
   "outputs": [],
   "source": [
    "import pandas as pd\n",
    "import numpy as np\n",
    "from sklearn.preprocessing import MinMaxScaler\n",
    "from sklearn.ensemble import RandomForestClassifier\n",
    "from sklearn.model_selection import StratifiedKFold\n",
    "from sklearn.metrics import confusion_matrix,roc_curve,auc,accuracy_score\n",
    "\n",
    "pd.options.display.html.table_schema=True\n",
    "pd.options.display.max_rows=None\n",
    "pd.options.display.max_columns=None\n",
    "# %matplotlib inline"
   ]
  },
  {
   "cell_type": "code",
   "execution_count": 2,
   "id": "6f6dfbf4",
   "metadata": {},
   "outputs": [],
   "source": [
    "data=pd.read_excel('111.xlsx',sheet_name='Лист2')\n",
    "X=np.array(data.drop('Событие', axis=1))\n",
    "y=np.array(data['Событие'])"
   ]
  },
  {
   "cell_type": "code",
   "execution_count": 3,
   "id": "08a7d196",
   "metadata": {},
   "outputs": [],
   "source": [
    "rand_forest=RandomForestClassifier(random_state=0, n_estimators=50, max_depth=5).fit(X, y)"
   ]
  },
  {
   "cell_type": "code",
   "execution_count": 4,
   "id": "dcef3e1e",
   "metadata": {},
   "outputs": [
    {
     "name": "stdout",
     "output_type": "stream",
     "text": [
      "{'Покраснение': 0.0613548482753228}\n",
      "{'выделение из глаз – характер отделяемого': 0.05888240097149655}\n",
      "{'неприятные ощущения в глазу – присутствие – имеется': 0.07650216229376981}\n",
      "{'КГЯ – изменения': 0.05451842715016816}\n",
      "{'конъюнктива ВиН век – изменения – отек': 0.05606512035082479}\n",
      "{'конъюнктива ВиН век -  характер отделяемого': 0.060100686245273496}\n"
     ]
    }
   ],
   "source": [
    "importances = [{data.columns[index]: x} for index,x in enumerate(rand_forest.feature_importances_) if x>0.05]\n",
    "importances_ = []\n",
    "for col in importances:\n",
    "    importances_.append( list(col.keys())[0] )\n",
    "    print(col)"
   ]
  },
  {
   "cell_type": "code",
   "execution_count": 5,
   "id": "1ff3d822",
   "metadata": {},
   "outputs": [
    {
     "name": "stdout",
     "output_type": "stream",
     "text": [
      "0.9310344827586207\n"
     ]
    },
    {
     "data": {
      "application/vnd.dataresource+json": {
       "data": [
        {
         "0": 16,
         "1": 0,
         "2": 0,
         "4": 0,
         "row_0": 0
        },
        {
         "0": 1,
         "1": 5,
         "2": 0,
         "4": 0,
         "row_0": 1
        },
        {
         "0": 0,
         "1": 0,
         "2": 3,
         "4": 0,
         "row_0": 2
        },
        {
         "0": 0,
         "1": 1,
         "2": 0,
         "4": 0,
         "row_0": 3
        },
        {
         "0": 0,
         "1": 0,
         "2": 0,
         "4": 3,
         "row_0": 4
        }
       ],
       "schema": {
        "fields": [
         {
          "name": "row_0",
          "type": "integer"
         },
         {
          "name": 0,
          "type": "integer"
         },
         {
          "name": 1,
          "type": "integer"
         },
         {
          "name": 2,
          "type": "integer"
         },
         {
          "name": 4,
          "type": "integer"
         }
        ],
        "pandas_version": "0.20.0",
        "primaryKey": [
         "row_0"
        ]
       }
      },
      "text/html": [
       "<div>\n",
       "<style scoped>\n",
       "    .dataframe tbody tr th:only-of-type {\n",
       "        vertical-align: middle;\n",
       "    }\n",
       "\n",
       "    .dataframe tbody tr th {\n",
       "        vertical-align: top;\n",
       "    }\n",
       "\n",
       "    .dataframe thead th {\n",
       "        text-align: right;\n",
       "    }\n",
       "</style>\n",
       "<table border=\"1\" class=\"dataframe\">\n",
       "  <thead>\n",
       "    <tr style=\"text-align: right;\">\n",
       "      <th>col_0</th>\n",
       "      <th>0</th>\n",
       "      <th>1</th>\n",
       "      <th>2</th>\n",
       "      <th>4</th>\n",
       "    </tr>\n",
       "    <tr>\n",
       "      <th>row_0</th>\n",
       "      <th></th>\n",
       "      <th></th>\n",
       "      <th></th>\n",
       "      <th></th>\n",
       "    </tr>\n",
       "  </thead>\n",
       "  <tbody>\n",
       "    <tr>\n",
       "      <th>0</th>\n",
       "      <td>16</td>\n",
       "      <td>0</td>\n",
       "      <td>0</td>\n",
       "      <td>0</td>\n",
       "    </tr>\n",
       "    <tr>\n",
       "      <th>1</th>\n",
       "      <td>1</td>\n",
       "      <td>5</td>\n",
       "      <td>0</td>\n",
       "      <td>0</td>\n",
       "    </tr>\n",
       "    <tr>\n",
       "      <th>2</th>\n",
       "      <td>0</td>\n",
       "      <td>0</td>\n",
       "      <td>3</td>\n",
       "      <td>0</td>\n",
       "    </tr>\n",
       "    <tr>\n",
       "      <th>3</th>\n",
       "      <td>0</td>\n",
       "      <td>1</td>\n",
       "      <td>0</td>\n",
       "      <td>0</td>\n",
       "    </tr>\n",
       "    <tr>\n",
       "      <th>4</th>\n",
       "      <td>0</td>\n",
       "      <td>0</td>\n",
       "      <td>0</td>\n",
       "      <td>3</td>\n",
       "    </tr>\n",
       "  </tbody>\n",
       "</table>\n",
       "</div>"
      ],
      "text/plain": [
       "col_0   0  1  2  4\n",
       "row_0             \n",
       "0      16  0  0  0\n",
       "1       1  5  0  0\n",
       "2       0  0  3  0\n",
       "3       0  1  0  0\n",
       "4       0  0  0  3"
      ]
     },
     "execution_count": 5,
     "metadata": {},
     "output_type": "execute_result"
    }
   ],
   "source": [
    "print(rand_forest.score(X,y))\n",
    "y_pred=rand_forest.predict(X)\n",
    "pd.crosstab(y,y_pred)"
   ]
  },
  {
   "cell_type": "code",
   "execution_count": 6,
   "id": "78de8b90",
   "metadata": {},
   "outputs": [
    {
     "name": "stdout",
     "output_type": "stream",
     "text": [
      "0.896551724137931\n"
     ]
    }
   ],
   "source": [
    "New_X=data[[list(_.items())[0][0] for _ in importances]]\n",
    "rand_forest1=RandomForestClassifier(random_state=0, n_estimators=40, max_depth=5).fit(New_X, y)\n",
    "print(rand_forest1.score(New_X,y))"
   ]
  },
  {
   "cell_type": "code",
   "execution_count": 7,
   "id": "2a585c7a-e3f7-461a-aaa7-7141c0f746b7",
   "metadata": {},
   "outputs": [],
   "source": [
    "from collections import OrderedDict\n",
    "interact_data = OrderedDict()\n",
    "copied = pd.DataFrame(data, columns=importances_)\n",
    "# copied = copied.drop('Событие', 1)\n",
    "for col in copied:\n",
    "    col_data = data[col].unique()\n",
    "    interact_data[col] =(col_data.min(), col_data.max())"
   ]
  },
  {
   "cell_type": "code",
   "execution_count": 8,
   "id": "cf44acd4-60c0-470c-a0bb-92e14bb44ee4",
   "metadata": {},
   "outputs": [
    {
     "data": {
      "application/vnd.jupyter.widget-view+json": {
       "model_id": "2e7de6f1fd3d465dbddcd7a7bcd80436",
       "version_major": 2,
       "version_minor": 0
      },
      "text/plain": [
       "interactive(children=(IntSlider(value=0, description='Покраснение', max=2), IntSlider(value=0, description='вы…"
      ]
     },
     "metadata": {},
     "output_type": "display_data"
    }
   ],
   "source": [
    "from __future__ import print_function\n",
    "from ipywidgets import interact, interactive, fixed, interact_manual, IntSlider\n",
    "import ipywidgets as widgets\n",
    "from IPython.display import display, clear_output\n",
    "import matplotlib.pyplot as plt\n",
    "\n",
    "def make_preset(**kwargs):\n",
    "    predicts = list(kwargs.values())\n",
    "    predicts = [np.asanyarray(predicts)]\n",
    "    \n",
    "    predicted = rand_forest1.predict([predicts[0]])\n",
    "    return f'Предсказанное событие {predicted[0]}'\n",
    "    \n",
    "list_widgets={}\n",
    "\n",
    "for name in interact_data.keys():\n",
    "    value = interact_data[name]\n",
    "    list_widgets[name] = widgets.IntSlider(value=value[0] ,min=value[0],max=value[1],description=name)\n",
    "\n",
    "interact(make_preset, **list_widgets);"
   ]
  },
  {
   "cell_type": "code",
   "execution_count": 9,
   "id": "e6abd88f-cbc2-4383-9bf2-04b65b40d4b1",
   "metadata": {},
   "outputs": [
    {
     "name": "stdout",
     "output_type": "stream",
     "text": [
      "Покраснение\n",
      "выделение из глаз – характер отделяемого\n",
      "неприятные ощущения в глазу – присутствие – имеется\n",
      "КГЯ – изменения\n",
      "конъюнктива ВиН век – изменения – отек\n",
      "конъюнктива ВиН век -  характер отделяемого\n"
     ]
    },
    {
     "data": {
      "text/plain": [
       "[None, None, None, None, None, None]"
      ]
     },
     "execution_count": 9,
     "metadata": {},
     "output_type": "execute_result"
    }
   ],
   "source": [
    "[ print(_) for _ in interact_data.keys()]"
   ]
  },
  {
   "cell_type": "code",
   "execution_count": 10,
   "id": "200b8da6-3f5e-4dd3-9ef5-bd76a10b9cad",
   "metadata": {},
   "outputs": [],
   "source": [
    "from sklearn.tree import export_graphviz\n",
    "\n",
    "# Export as dot file\n",
    "export_graphviz(rand_forest1.estimators_[39], \n",
    "                out_file='tree.dot', \n",
    "                feature_names = [ _ for _ in interact_data.keys()],\n",
    "                class_names = ['1', '2', '3', '4', '5'],\n",
    "                rounded = True, proportion = False, \n",
    "                precision = 3, filled = True)"
   ]
  },
  {
   "cell_type": "code",
   "execution_count": 11,
   "id": "651cd4a1-fa61-47af-ab7e-d860706a9103",
   "metadata": {},
   "outputs": [
    {
     "data": {
      "text/plain": [
       "0"
      ]
     },
     "execution_count": 11,
     "metadata": {},
     "output_type": "execute_result"
    }
   ],
   "source": [
    "from subprocess import call\n",
    "call(['dot', '-Tpng', 'tree.dot', '-o', 'tree.png', '-Gdpi=600'])"
   ]
  },
  {
   "cell_type": "code",
   "execution_count": 15,
   "id": "170ecb83-42ae-43ed-9564-67d74f3c43c9",
   "metadata": {},
   "outputs": [
    {
     "data": {
      "text/plain": [
       "<Response [403]>"
      ]
     },
     "execution_count": 15,
     "metadata": {},
     "output_type": "execute_result"
    }
   ],
   "source": [
    "import requests\n",
    "import json\n",
    "requests.get(f'https://iacpaas.dvo.ru/api/service/run/4640883221581498862')"
   ]
  },
  {
   "cell_type": "code",
   "execution_count": 92,
   "id": "826fd410-d254-40dd-a3f5-75371671464f",
   "metadata": {},
   "outputs": [],
   "source": [
    "import_link = 'https://iacpaas.dvo.ru/api/fund/structure/export/user-item?path=%D0%A1%D0%B5%D1%80%D0%B2%D0%B8%D1%81%20%D0%B4%D0%B8%D0%B0%D0%B3%D0%BD%D0%BE%D1%81%D1%82%D0%B8%D0%BA%D0%B8%20%D0%B1%D0%B5%D0%B7%20%D0%B8%D0%BD%D1%82%D0%B5%D1%80%D1%84%D0%B5%D0%B9%D1%81%D0%B0%2F%D0%90%D1%80%D1%85%D0%B8%D0%B2%20%D1%81%20%D0%BE%D0%B4%D0%BD%D0%BE%D0%B9%20%D0%98%D0%91&json-type=universal'\n",
    "#TODO: APP TOKEN HERE\n",
    "api_key = '6cf60d216c5b1b32ebfbbb5492c5a1b7'\n",
    "response = requests.get(import_link, headers={\"accept\": \"application/json\", \"X-API-KEY\": api_key})\n",
    "result_json = json.loads(response._content.decode('utf-8'))"
   ]
  },
  {
   "cell_type": "code",
   "execution_count": 93,
   "id": "f64c3bc1-90bd-428c-95fd-5acc7b7f60f8",
   "metadata": {},
   "outputs": [],
   "source": [
    "json_data = json.loads(result_json['data'])\n",
    "# json_data['title'] = 'test'\n",
    "# json_data['path'] = '/Сервис диагностики без интерфейса/test'\n",
    "# json_data['name'] = 'test'\n",
    "# json_data['owner_id'] = 216\n",
    "# result_json['data'] = json_data\n",
    "# result_json['filename'] = 'test'\n",
    "\n",
    "# json_data['successors'][1]['successors'][0]['successors'][1]['successors'][0]['value'] = 99\n",
    "# json_data['successors'][1]['successors'][0]['successors'][1]['successors'][1]['value'] = 2021\n",
    "# json_data['successors'][1]['successors'][0]['successors'][0]['successors'][0]['value'] = 'не опознано'\n",
    "# json_data['successors'][1]['successors'][1]['successors'][0]['successors'][0]['successors'][0]['successors'][0]['successors'].append(\n",
    "# {'id': 73804718014540,\n",
    "#   'name': 'Качественные значения',\n",
    "#   'type': 'НЕТЕРМИНАЛ',\n",
    "#   'meta': 'Качественные значения',\n",
    "#   'successors': [{'id': 73804718014540,\n",
    "#     'value': 'мокрое',\n",
    "#     'type': 'ТЕРМИНАЛ-ЗНАЧЕНИЕ',\n",
    "#     'valtype': 'STRING',\n",
    "#     'meta': 'значение',\n",
    "# #     'original': 'margaret@iacp.dvo.ru/Мой Фонд/Новая база наблюдений/База медицинской терминологии и наблюдений 2020$/НАБЛЮДЕНИЯ/ПРИЗНАКИ/Жалобы/Общие/Выделение из полости носа/Составной признак/Характер отделяемого/Тип возможных значений/Качественные значения/слизистое;',\n",
    "#     'rcomment': '',\n",
    "#     'comment': ''}],\n",
    "#   'rcomment': '',\n",
    "#   'comment': ''}\n",
    "# )\n",
    "\n",
    "# json_data['successors'][1]['successors'][1]['successors'][0]['successors'][0]['successors'][0]['successors'][0]['successors'].append(\n",
    "# {'id': 73804718014540,\n",
    "#   'name': 'Качественные значения',\n",
    "#   'type': 'НЕТЕРМИНАЛ',\n",
    "#   'meta': 'Качественные значения',\n",
    "#   'successors': [{'id': 73804718014540,\n",
    "#     'value': 'сухое',\n",
    "#     'type': 'ТЕРМИНАЛ-ЗНАЧЕНИЕ',\n",
    "#     'valtype': 'STRING',\n",
    "#     'meta': 'значение',\n",
    "# #     'original': 'margaret@iacp.dvo.ru/Мой Фонд/Новая база наблюдений/База медицинской терминологии и наблюдений 2020$/НАБЛЮДЕНИЯ/ПРИЗНАКИ/Жалобы/Общие/Выделение из полости носа/Составной признак/Характер отделяемого/Тип возможных значений/Качественные значения/слизистое;',\n",
    "#     'rcomment': '',\n",
    "#     'comment': ''}],\n",
    "#   'rcomment': '',\n",
    "#   'comment': ''}\n",
    "# )\n",
    "\n",
    "# json_data['successors'][1]['successors'][1]['successors'][0]['successors'][0]['successors'][0]['successors'][0]['successors'].append(\n",
    "# {'id': 73804718014540,\n",
    "#   'name': 'Качественные значения',\n",
    "#   'type': 'НЕТЕРМИНАЛ',\n",
    "#   'meta': 'Качественные значения',\n",
    "#   'successors': [{'id': 73804718014540,\n",
    "#     'value': 'не определился',\n",
    "#     'type': 'ТЕРМИНАЛ-ЗНАЧЕНИЕ',\n",
    "#     'valtype': 'STRING',\n",
    "#     'meta': 'значение',\n",
    "# #     'original': 'margaret@iacp.dvo.ru/Мой Фонд/Новая база наблюдений/База медицинской терминологии и наблюдений 2020$/НАБЛЮДЕНИЯ/ПРИЗНАКИ/Жалобы/Общие/Выделение из полости носа/Составной признак/Характер отделяемого/Тип возможных значений/Качественные значения/слизистое;',\n",
    "#     'rcomment': '',\n",
    "#     'comment': ''}],\n",
    "#   'rcomment': '',\n",
    "#   'comment': ''}\n",
    "# )"
   ]
  },
  {
   "cell_type": "code",
   "execution_count": 94,
   "id": "88c7c213-a9b9-4923-995a-046cd7ba6965",
   "metadata": {},
   "outputs": [],
   "source": [
    "json_data['successors'][0]['successors'][1]['successors'].append(\n",
    "{'id': 73804718015008, 'name': ' Резь в глазу', 'type': 'НЕТЕРМИНАЛ', 'meta': 'Признак', 'successors': [{'id': 73804718015012, 'name': 'Составные значения', 'type': 'НЕТЕРМИНАЛ', 'meta': 'Составные значения', 'successors': [{'id': 73804718015016, 'name': 'Присутствие', 'type': 'НЕТЕРМИНАЛ', 'meta': 'Характеристика', 'successors': [{'id': 73804718015020, 'name': 'Выбор типа значений', 'type': 'НЕТЕРМИНАЛ', 'meta': 'Выбор типа значений', 'successors': [{'id': 73804718015024, 'name': 'Качественные значения', 'type': 'НЕТЕРМИНАЛ', 'meta': 'Качественные значения', 'successors': [{'id': 73804718015030, 'value': 'имеется', 'type': 'ТЕРМИНАЛ-ЗНАЧЕНИЕ', 'valtype': 'STRING', 'meta': 'значение', 'rcomment': '', 'comment': ''}], 'rcomment': '', 'comment': ''}], 'rcomment': '', 'comment': ''}], 'rcomment': '', 'comment': ''}], 'rcomment': '', 'comment': ''}], 'rcomment': '', 'comment': ''}\n",
    ")\n",
    "\n",
    "json_data['successors'][0]['successors'][1]['successors'].append(\n",
    "{'id': 73804718015008, 'name': 'Покраснение глаза', 'type': 'НЕТЕРМИНАЛ', 'meta': 'Признак', 'successors': [{'id': 73804718015012, 'name': 'Составные значения', 'type': 'НЕТЕРМИНАЛ', 'meta': 'Составные значения', 'successors': [{'id': 73804718015016, 'name': 'Присутствие', 'type': 'НЕТЕРМИНАЛ', 'meta': 'Характеристика', 'successors': [{'id': 73804718015020, 'name': 'Выбор типа значений', 'type': 'НЕТЕРМИНАЛ', 'meta': 'Выбор типа значений', 'successors': [{'id': 73804718015024, 'name': 'Качественные значения', 'type': 'НЕТЕРМИНАЛ', 'meta': 'Качественные значения', 'successors': [{'id': 73804718015030, 'value': 'имеется', 'type': 'ТЕРМИНАЛ-ЗНАЧЕНИЕ', 'valtype': 'STRING', 'meta': 'значение', 'rcomment': '', 'comment': ''}], 'rcomment': '', 'comment': ''}], 'rcomment': '', 'comment': ''}], 'rcomment': '', 'comment': ''}], 'rcomment': '', 'comment': ''}], 'rcomment': '', 'comment': ''}\n",
    ")\n",
    "\n",
    "json_data['successors'][0]['successors'][1]['successors'].append(\n",
    "{'id': 73804718015008, 'name': 'Боль в глазу', 'type': 'НЕТЕРМИНАЛ', 'meta': 'Признак', 'successors': [{'id': 73804718015012, 'name': 'Составные значения', 'type': 'НЕТЕРМИНАЛ', 'meta': 'Составные значения', 'successors': [{'id': 73804718015016, 'name': 'Иррадиация', 'type': 'НЕТЕРМИНАЛ', 'meta': 'Характеристика', 'successors': [{'id': 73804718015020, 'name': 'Выбор типа значений', 'type': 'НЕТЕРМИНАЛ', 'meta': 'Выбор типа значений', 'successors': [{'id': 73804718015024, 'name': 'Качественные значения', 'type': 'НЕТЕРМИНАЛ', 'meta': 'Качественные значения', 'successors': [{'id': 73804718015030, 'value': 'половина головы', 'type': 'ТЕРМИНАЛ-ЗНАЧЕНИЕ', 'valtype': 'STRING', 'meta': 'значение', 'rcomment': '', 'comment': ''}], 'rcomment': '', 'comment': ''}], 'rcomment': '', 'comment': ''}], 'rcomment': '', 'comment': ''}], 'rcomment': '', 'comment': ''}], 'rcomment': '', 'comment': ''}\n",
    ")"
   ]
  },
  {
   "cell_type": "code",
   "execution_count": 95,
   "id": "cb2fcc84-b992-441a-971f-60de2f57c055",
   "metadata": {},
   "outputs": [
    {
     "name": "stdout",
     "output_type": "stream",
     "text": [
      "{'error': None, 'explanation': None, 'success': True, 'platformUnavailable': False, 'explanationSafe': None}\n"
     ]
    }
   ],
   "source": [
    "resp_post = requests.post('https://iacpaas.dvo.ru/api/fund/structure/import', headers={\"Content-Type\": \"application/json\", \"X-API-KEY\": api_key, \"accept\": \"application/json\"}, data=json.dumps({\n",
    "    'path': '/Сервис диагностики без интерфейса',\n",
    "    'json': json.dumps(json_data),\n",
    "    'clearIfExists': True\n",
    "}))\n",
    "print(json.loads(resp_post._content.decode('utf-8')))\n",
    "\n",
    "\n"
   ]
  },
  {
   "cell_type": "code",
   "execution_count": 96,
   "id": "72aaf4c4-f5b3-447d-bcca-35af23ae0248",
   "metadata": {},
   "outputs": [
    {
     "name": "stdout",
     "output_type": "stream",
     "text": [
      "{'error': None, 'explanation': None, 'success': True, 'platformUnavailable': False, 'tpir': '', 'attachResult': None, 'explanationSafe': None}\n"
     ]
    }
   ],
   "source": [
    "response_ = requests.get('https://iacpaas.dvo.ru/api/service/run/4640197744801057262', headers={\"accept\": \"application/json\", \"X-API-KEY\": api_key})\n",
    "print(json.loads(response_._content))"
   ]
  },
  {
   "cell_type": "code",
   "execution_count": null,
   "id": "8561d896-22f9-4b28-8349-fb6d56fb471c",
   "metadata": {},
   "outputs": [],
   "source": [
    "json_data"
   ]
  },
  {
   "cell_type": "code",
   "execution_count": null,
   "id": "f09ebee1-564b-472f-b0c7-7c8df84e3352",
   "metadata": {},
   "outputs": [],
   "source": []
  },
  {
   "cell_type": "code",
   "execution_count": null,
   "id": "8392cc44-fa68-4b37-8cd1-991ef5a825da",
   "metadata": {},
   "outputs": [],
   "source": []
  }
 ],
 "metadata": {
  "kernelspec": {
   "display_name": "Python 3",
   "language": "python",
   "name": "python3"
  },
  "language_info": {
   "codemirror_mode": {
    "name": "ipython",
    "version": 3
   },
   "file_extension": ".py",
   "mimetype": "text/x-python",
   "name": "python",
   "nbconvert_exporter": "python",
   "pygments_lexer": "ipython3",
   "version": "3.9.1"
  }
 },
 "nbformat": 4,
 "nbformat_minor": 5
}
